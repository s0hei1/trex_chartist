{
 "cells": [
  {
   "cell_type": "code",
   "execution_count": 4,
   "id": "initial_id",
   "metadata": {
    "collapsed": true,
    "ExecuteTime": {
     "end_time": "2025-03-21T06:04:23.136434600Z",
     "start_time": "2025-03-21T06:04:23.042179600Z"
    }
   },
   "outputs": [],
   "source": [
    "import pandas as pd"
   ]
  },
  {
   "cell_type": "code",
   "outputs": [],
   "source": [
    "df = pd.read_csv('EURUSD_1D_2010_2025.csv')"
   ],
   "metadata": {
    "collapsed": false,
    "ExecuteTime": {
     "end_time": "2025-03-21T06:04:24.039329Z",
     "start_time": "2025-03-21T06:04:23.964663700Z"
    }
   },
   "id": "30a31a27d2660603",
   "execution_count": 5
  },
  {
   "cell_type": "code",
   "outputs": [],
   "source": [
    "df['date'] = df['Gmt time'].apply(lambda x : str(x).split()[0])"
   ],
   "metadata": {
    "collapsed": false,
    "ExecuteTime": {
     "end_time": "2025-03-21T06:04:26.057692300Z",
     "start_time": "2025-03-21T06:04:26.040255800Z"
    }
   },
   "id": "f753eb8d5618201e",
   "execution_count": 6
  },
  {
   "cell_type": "code",
   "outputs": [],
   "source": [
    "def setTimeCol(dateTime : str):\n",
    "    time = dateTime.split()[1]\n",
    "    time = time.split('.')[0]\n",
    "    return time\n",
    "\n",
    "df['time'] = df['Gmt time'].apply(setTimeCol)"
   ],
   "metadata": {
    "collapsed": false,
    "ExecuteTime": {
     "end_time": "2025-03-21T06:04:26.073142Z",
     "start_time": "2025-03-21T06:04:26.050611500Z"
    }
   },
   "id": "34210d275cfbfa38",
   "execution_count": 7
  },
  {
   "cell_type": "code",
   "outputs": [],
   "source": [
    "def setCandleColor(candle):\n",
    "    if candle['Open'] > candle['Close']:\n",
    "        return 'r'\n",
    "    elif candle['Close'] > candle['Open']:\n",
    "        return 'g'\n",
    "    else:\n",
    "        return 'e'\n",
    "\n",
    "df['candleColor'] = df.apply(setCandleColor, axis = 1)\n",
    "    "
   ],
   "metadata": {
    "collapsed": false,
    "ExecuteTime": {
     "end_time": "2025-03-21T06:04:26.113212100Z",
     "start_time": "2025-03-21T06:04:26.061691Z"
    }
   },
   "id": "3dc3de0bac6976c1",
   "execution_count": 8
  },
  {
   "cell_type": "code",
   "outputs": [],
   "source": [
    "df['timeFrame'] = '1D'"
   ],
   "metadata": {
    "collapsed": false,
    "ExecuteTime": {
     "end_time": "2025-03-21T06:04:26.124685Z",
     "start_time": "2025-03-21T06:04:26.115219200Z"
    }
   },
   "id": "5deb0ec94a960522",
   "execution_count": 9
  },
  {
   "cell_type": "code",
   "outputs": [],
   "source": [
    "df['symbol'] = 'EURUSD'"
   ],
   "metadata": {
    "collapsed": false,
    "ExecuteTime": {
     "end_time": "2025-03-21T06:04:26.126638300Z",
     "start_time": "2025-03-21T06:04:26.120753200Z"
    }
   },
   "id": "b3abcd0168d0b48c",
   "execution_count": 10
  },
  {
   "cell_type": "code",
   "outputs": [],
   "source": [
    "df['range'] = df.apply(lambda candle: abs(candle['High'] - candle['Low']),axis= 1)"
   ],
   "metadata": {
    "collapsed": false,
    "ExecuteTime": {
     "end_time": "2025-03-21T06:04:26.175315500Z",
     "start_time": "2025-03-21T06:04:26.127642200Z"
    }
   },
   "id": "88c21eaccc667c11",
   "execution_count": 11
  },
  {
   "cell_type": "code",
   "outputs": [],
   "source": [
    "df['rangePips'] = df['range'] * 10000\n",
    "df['rangePips'] = df['rangePips'].astype(int)"
   ],
   "metadata": {
    "collapsed": false,
    "ExecuteTime": {
     "end_time": "2025-03-21T06:04:26.186570200Z",
     "start_time": "2025-03-21T06:04:26.177322900Z"
    }
   },
   "id": "f93bff0b32c65728",
   "execution_count": 12
  },
  {
   "cell_type": "code",
   "outputs": [
    {
     "ename": "ValueError",
     "evalue": "time data \"2010-01-01\" doesn't match format \"%d.%m.%Y\", at position 0. You might want to try:\n    - passing `format` if your strings have a consistent format;\n    - passing `format='ISO8601'` if your strings are all ISO8601 but not necessarily in exactly the same format;\n    - passing `format='mixed'`, and the format will be inferred for each element individually. You might want to use `dayfirst` alongside this.",
     "output_type": "error",
     "traceback": [
      "\u001B[31m---------------------------------------------------------------------------\u001B[39m",
      "\u001B[31mValueError\u001B[39m                                Traceback (most recent call last)",
      "\u001B[36mCell\u001B[39m\u001B[36m \u001B[39m\u001B[32mIn[41]\u001B[39m\u001B[32m, line 1\u001B[39m\n\u001B[32m----> \u001B[39m\u001B[32m1\u001B[39m df[\u001B[33m'\u001B[39m\u001B[33mdate\u001B[39m\u001B[33m'\u001B[39m] = \u001B[43mpd\u001B[49m\u001B[43m.\u001B[49m\u001B[43mto_datetime\u001B[49m\u001B[43m(\u001B[49m\u001B[43mdf\u001B[49m\u001B[43m[\u001B[49m\u001B[33;43m'\u001B[39;49m\u001B[33;43mdate\u001B[39;49m\u001B[33;43m'\u001B[39;49m\u001B[43m]\u001B[49m\u001B[43m,\u001B[49m\u001B[43m \u001B[49m\u001B[38;5;28;43mformat\u001B[39;49m\u001B[43m=\u001B[49m\u001B[33;43m'\u001B[39;49m\u001B[38;5;132;43;01m%d\u001B[39;49;00m\u001B[33;43m.\u001B[39;49m\u001B[33;43m%\u001B[39;49m\u001B[33;43mm.\u001B[39;49m\u001B[33;43m%\u001B[39;49m\u001B[33;43mY\u001B[39;49m\u001B[33;43m'\u001B[39;49m\u001B[43m)\u001B[49m.dt.strftime(\u001B[33m'\u001B[39m\u001B[33m%\u001B[39m\u001B[33mY-\u001B[39m\u001B[33m%\u001B[39m\u001B[33mm-\u001B[39m\u001B[38;5;132;01m%d\u001B[39;00m\u001B[33m'\u001B[39m)\n",
      "\u001B[36mFile \u001B[39m\u001B[32m~\\PycharmProjects\\trex_chartist\\.venv\\Lib\\site-packages\\pandas\\core\\tools\\datetimes.py:1067\u001B[39m, in \u001B[36mto_datetime\u001B[39m\u001B[34m(arg, errors, dayfirst, yearfirst, utc, format, exact, unit, infer_datetime_format, origin, cache)\u001B[39m\n\u001B[32m   1065\u001B[39m         result = arg.map(cache_array)\n\u001B[32m   1066\u001B[39m     \u001B[38;5;28;01melse\u001B[39;00m:\n\u001B[32m-> \u001B[39m\u001B[32m1067\u001B[39m         values = \u001B[43mconvert_listlike\u001B[49m\u001B[43m(\u001B[49m\u001B[43marg\u001B[49m\u001B[43m.\u001B[49m\u001B[43m_values\u001B[49m\u001B[43m,\u001B[49m\u001B[43m \u001B[49m\u001B[38;5;28;43mformat\u001B[39;49m\u001B[43m)\u001B[49m\n\u001B[32m   1068\u001B[39m         result = arg._constructor(values, index=arg.index, name=arg.name)\n\u001B[32m   1069\u001B[39m \u001B[38;5;28;01melif\u001B[39;00m \u001B[38;5;28misinstance\u001B[39m(arg, (ABCDataFrame, abc.MutableMapping)):\n",
      "\u001B[36mFile \u001B[39m\u001B[32m~\\PycharmProjects\\trex_chartist\\.venv\\Lib\\site-packages\\pandas\\core\\tools\\datetimes.py:433\u001B[39m, in \u001B[36m_convert_listlike_datetimes\u001B[39m\u001B[34m(arg, format, name, utc, unit, errors, dayfirst, yearfirst, exact)\u001B[39m\n\u001B[32m    431\u001B[39m \u001B[38;5;66;03m# `format` could be inferred, or user didn't ask for mixed-format parsing.\u001B[39;00m\n\u001B[32m    432\u001B[39m \u001B[38;5;28;01mif\u001B[39;00m \u001B[38;5;28mformat\u001B[39m \u001B[38;5;129;01mis\u001B[39;00m \u001B[38;5;129;01mnot\u001B[39;00m \u001B[38;5;28;01mNone\u001B[39;00m \u001B[38;5;129;01mand\u001B[39;00m \u001B[38;5;28mformat\u001B[39m != \u001B[33m\"\u001B[39m\u001B[33mmixed\u001B[39m\u001B[33m\"\u001B[39m:\n\u001B[32m--> \u001B[39m\u001B[32m433\u001B[39m     \u001B[38;5;28;01mreturn\u001B[39;00m \u001B[43m_array_strptime_with_fallback\u001B[49m\u001B[43m(\u001B[49m\u001B[43marg\u001B[49m\u001B[43m,\u001B[49m\u001B[43m \u001B[49m\u001B[43mname\u001B[49m\u001B[43m,\u001B[49m\u001B[43m \u001B[49m\u001B[43mutc\u001B[49m\u001B[43m,\u001B[49m\u001B[43m \u001B[49m\u001B[38;5;28;43mformat\u001B[39;49m\u001B[43m,\u001B[49m\u001B[43m \u001B[49m\u001B[43mexact\u001B[49m\u001B[43m,\u001B[49m\u001B[43m \u001B[49m\u001B[43merrors\u001B[49m\u001B[43m)\u001B[49m\n\u001B[32m    435\u001B[39m result, tz_parsed = objects_to_datetime64(\n\u001B[32m    436\u001B[39m     arg,\n\u001B[32m    437\u001B[39m     dayfirst=dayfirst,\n\u001B[32m   (...)\u001B[39m\u001B[32m    441\u001B[39m     allow_object=\u001B[38;5;28;01mTrue\u001B[39;00m,\n\u001B[32m    442\u001B[39m )\n\u001B[32m    444\u001B[39m \u001B[38;5;28;01mif\u001B[39;00m tz_parsed \u001B[38;5;129;01mis\u001B[39;00m \u001B[38;5;129;01mnot\u001B[39;00m \u001B[38;5;28;01mNone\u001B[39;00m:\n\u001B[32m    445\u001B[39m     \u001B[38;5;66;03m# We can take a shortcut since the datetime64 numpy array\u001B[39;00m\n\u001B[32m    446\u001B[39m     \u001B[38;5;66;03m# is in UTC\u001B[39;00m\n",
      "\u001B[36mFile \u001B[39m\u001B[32m~\\PycharmProjects\\trex_chartist\\.venv\\Lib\\site-packages\\pandas\\core\\tools\\datetimes.py:467\u001B[39m, in \u001B[36m_array_strptime_with_fallback\u001B[39m\u001B[34m(arg, name, utc, fmt, exact, errors)\u001B[39m\n\u001B[32m    456\u001B[39m \u001B[38;5;28;01mdef\u001B[39;00m\u001B[38;5;250m \u001B[39m\u001B[34m_array_strptime_with_fallback\u001B[39m(\n\u001B[32m    457\u001B[39m     arg,\n\u001B[32m    458\u001B[39m     name,\n\u001B[32m   (...)\u001B[39m\u001B[32m    462\u001B[39m     errors: \u001B[38;5;28mstr\u001B[39m,\n\u001B[32m    463\u001B[39m ) -> Index:\n\u001B[32m    464\u001B[39m \u001B[38;5;250m    \u001B[39m\u001B[33;03m\"\"\"\u001B[39;00m\n\u001B[32m    465\u001B[39m \u001B[33;03m    Call array_strptime, with fallback behavior depending on 'errors'.\u001B[39;00m\n\u001B[32m    466\u001B[39m \u001B[33;03m    \"\"\"\u001B[39;00m\n\u001B[32m--> \u001B[39m\u001B[32m467\u001B[39m     result, tz_out = \u001B[43marray_strptime\u001B[49m\u001B[43m(\u001B[49m\u001B[43marg\u001B[49m\u001B[43m,\u001B[49m\u001B[43m \u001B[49m\u001B[43mfmt\u001B[49m\u001B[43m,\u001B[49m\u001B[43m \u001B[49m\u001B[43mexact\u001B[49m\u001B[43m=\u001B[49m\u001B[43mexact\u001B[49m\u001B[43m,\u001B[49m\u001B[43m \u001B[49m\u001B[43merrors\u001B[49m\u001B[43m=\u001B[49m\u001B[43merrors\u001B[49m\u001B[43m,\u001B[49m\u001B[43m \u001B[49m\u001B[43mutc\u001B[49m\u001B[43m=\u001B[49m\u001B[43mutc\u001B[49m\u001B[43m)\u001B[49m\n\u001B[32m    468\u001B[39m     \u001B[38;5;28;01mif\u001B[39;00m tz_out \u001B[38;5;129;01mis\u001B[39;00m \u001B[38;5;129;01mnot\u001B[39;00m \u001B[38;5;28;01mNone\u001B[39;00m:\n\u001B[32m    469\u001B[39m         unit = np.datetime_data(result.dtype)[\u001B[32m0\u001B[39m]\n",
      "\u001B[36mFile \u001B[39m\u001B[32mstrptime.pyx:501\u001B[39m, in \u001B[36mpandas._libs.tslibs.strptime.array_strptime\u001B[39m\u001B[34m()\u001B[39m\n",
      "\u001B[36mFile \u001B[39m\u001B[32mstrptime.pyx:451\u001B[39m, in \u001B[36mpandas._libs.tslibs.strptime.array_strptime\u001B[39m\u001B[34m()\u001B[39m\n",
      "\u001B[36mFile \u001B[39m\u001B[32mstrptime.pyx:583\u001B[39m, in \u001B[36mpandas._libs.tslibs.strptime._parse_with_format\u001B[39m\u001B[34m()\u001B[39m\n",
      "\u001B[31mValueError\u001B[39m: time data \"2010-01-01\" doesn't match format \"%d.%m.%Y\", at position 0. You might want to try:\n    - passing `format` if your strings have a consistent format;\n    - passing `format='ISO8601'` if your strings are all ISO8601 but not necessarily in exactly the same format;\n    - passing `format='mixed'`, and the format will be inferred for each element individually. You might want to use `dayfirst` alongside this."
     ]
    }
   ],
   "source": [
    "df['date'] = pd.to_datetime(df['date'], format='%d.%m.%Y').dt.strftime('%Y-%m-%d')"
   ],
   "metadata": {
    "collapsed": false,
    "ExecuteTime": {
     "end_time": "2025-03-21T07:40:48.805319100Z",
     "start_time": "2025-03-21T07:40:48.626414100Z"
    }
   },
   "id": "e9b68f7308d1b8d6",
   "execution_count": 41
  },
  {
   "cell_type": "code",
   "outputs": [],
   "source": [
    "df.rename(columns={\n",
    "    'Open' : 'open', \n",
    "    'High' : 'high',\n",
    "    'Low' : 'low', \n",
    "    'Close' : 'close',\n",
    "    'Volume' : 'volume', \n",
    "}, inplace = True)"
   ],
   "metadata": {
    "collapsed": false,
    "ExecuteTime": {
     "end_time": "2025-03-21T07:40:59.814710Z",
     "start_time": "2025-03-21T07:40:59.749544Z"
    }
   },
   "id": "5dd3803c3de4ad02",
   "execution_count": 42
  },
  {
   "cell_type": "code",
   "outputs": [],
   "source": [
    "cols = [ 'open', 'close', 'high', 'low', 'volume', 'rangePips', 'candleColor', 'date', 'time', 'symbol', 'timeFrame']\n",
    "\n",
    "df[cols].to_csv('EURUSD_1D_ready_to_import.csv')"
   ],
   "metadata": {
    "collapsed": false,
    "ExecuteTime": {
     "end_time": "2025-03-21T07:41:00.222293500Z",
     "start_time": "2025-03-21T07:41:00.112698800Z"
    }
   },
   "id": "1a3a996eb6bcc172",
   "execution_count": 43
  },
  {
   "cell_type": "code",
   "outputs": [],
   "source": [],
   "metadata": {
    "collapsed": false
   },
   "id": "e3ab5df098601016"
  }
 ],
 "metadata": {
  "kernelspec": {
   "display_name": "Python 3",
   "language": "python",
   "name": "python3"
  },
  "language_info": {
   "codemirror_mode": {
    "name": "ipython",
    "version": 2
   },
   "file_extension": ".py",
   "mimetype": "text/x-python",
   "name": "python",
   "nbconvert_exporter": "python",
   "pygments_lexer": "ipython2",
   "version": "2.7.6"
  }
 },
 "nbformat": 4,
 "nbformat_minor": 5
}
